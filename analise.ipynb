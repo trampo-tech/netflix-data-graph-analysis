{
 "cells": [
  {
   "cell_type": "markdown",
   "id": "bd60fa5a",
   "metadata": {},
   "source": [
    "TODO Adicionar analises e respostas"
   ]
  }
 ],
 "metadata": {
  "language_info": {
   "name": "python"
  }
 },
 "nbformat": 4,
 "nbformat_minor": 5
}
